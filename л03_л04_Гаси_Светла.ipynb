{
 "cells": [
  {
   "cell_type": "markdown",
   "metadata": {
    "tags": []
   },
   "source": [
    "# Гаси Светла\n",
    "\n",
    "## Лабораториска вежба 3"
   ]
  },
  {
   "cell_type": "markdown",
   "metadata": {},
   "source": [
    "![Тука треба да видите .gif анимација, ама штом го читате ова нешто не е во ред.](images/example.gif)"
   ]
  },
  {
   "cell_type": "markdown",
   "metadata": {},
   "source": [
    "Разгледуваме игра која се игра самостојно. Правилата на играта се:\n",
    "- Се игра на табла со димензии `N` по `N`.\n",
    "- Има празни и полни кругчиња, по едно кругче за секое поле од таблата.\n",
    "- Се игра исклучиво со притискање на кругчињата.\n",
    "- Ако се притисне некое кругче:\n",
    "    - Се менува од празно во полно, или пак обратно, од полно во празно.\n",
    "    - Неговите соседи се менуваат од празно во полно, или пак обратно, од полно во празно.\n",
    "    - Соседи на едно кругче се соседните кругчиња кои се наоѓаат над, под, лево и десно.\n",
    "- Целта на играта е сите кругчиња да се празни, во најмал број чекори.\n",
    "\n",
    "Следи интерактивна апликација за оваа игра."
   ]
  },
  {
   "cell_type": "code",
   "execution_count": 1,
   "metadata": {
    "tags": []
   },
   "outputs": [],
   "source": [
    "from plotly import graph_objects as go"
   ]
  },
  {
   "cell_type": "code",
   "execution_count": 2,
   "metadata": {
    "tags": []
   },
   "outputs": [],
   "source": [
    "def expand_square(square):\n",
    "    neighbour_squares = []\n",
    "    x, y = square\n",
    "    for x, y in [(x, y), (x+1, y), (x-1, y), (x, y+1), (x, y-1)]:\n",
    "        if 0 <= x < N and 0 <= y < N:\n",
    "            neighbour_squares.append((x, y))\n",
    "    return neighbour_squares"
   ]
  },
  {
   "cell_type": "code",
   "execution_count": 3,
   "metadata": {
    "tags": []
   },
   "outputs": [
    {
     "data": {
      "application/vnd.jupyter.widget-view+json": {
       "model_id": "0b73ca703ee349b69b5aeae2fc10d329",
       "version_major": 2,
       "version_minor": 0
      },
      "text/plain": [
       "FigureWidget({\n",
       "    'data': [{'marker': {'color': 'LightSkyBlue',\n",
       "                         'line': {'color': 'MediumPurple', 'width': 6},\n",
       "                         'size': 48,\n",
       "                         'symbol': [circle-open, circle-open, circle, circle-open,\n",
       "                                    circle-open, circle-open, circle, circle,\n",
       "                                    circle, circle, circle-open, circle-open,\n",
       "                                    circle-open, circle, circle-open, circle-open]},\n",
       "              'mode': 'markers',\n",
       "              'type': 'scatter',\n",
       "              'uid': 'd367580f-ee5c-4ea0-8b0e-db9b8e6ef58b',\n",
       "              'x': [0, 1, 2, 3, 0, 1, 2, 3, 0, 1, 2, 3, 0, 1, 2, 3],\n",
       "              'y': [0, 0, 0, 0, 1, 1, 1, 1, 2, 2, 2, 2, 3, 3, 3, 3]}],\n",
       "    'layout': {'height': 480,\n",
       "               'showlegend': False,\n",
       "               'template': '...',\n",
       "               'width': 480,\n",
       "               'xaxis': {'dtick': 1, 'range': [-0.5, 3.5], 'side': 'top', 'title': {'text': 'x'}},\n",
       "               'yaxis': {'autorange': 'reversed', 'dtick': 1, 'range': [-0.5, 3.5], 'title': {'text': 'y'}}}\n",
       "})"
      ]
     },
     "execution_count": 3,
     "metadata": {},
     "output_type": "execute_result"
    }
   ],
   "source": [
    "def update_fig(trace, points, selector):\n",
    "    clicked_square = points.xs[0], points.ys[0]\n",
    "    for x, y in expand_square(clicked_square):\n",
    "        TABLE[y][x] = 0 if TABLE[y][x] else 1\n",
    "    symbols = ['circle' if n else 'circle-open' for row in TABLE for n in row]\n",
    "    fig.data[0].marker['symbol'] = symbols\n",
    "\n",
    "def create_fig():\n",
    "    fig = go.FigureWidget()\n",
    "    x = [x for y in range(N) for x in range(N)]\n",
    "    y = [y for y in range(N) for x in range(N)]\n",
    "    symbols = ['circle' if n else 'circle-open' for row in TABLE for n in row]\n",
    "    fig.add_scatter(x=x, y=y, mode='markers', marker_size=48, \n",
    "                    marker_symbol=symbols, marker_color='LightSkyBlue',\n",
    "                    marker_line_width=6, marker_line_color='MediumPurple')\n",
    "    fig.data[0].on_click(update_fig)\n",
    "    fig.update_xaxes(range=[-0.5, N - 0.5], dtick=1, title='x', side='top')\n",
    "    fig.update_yaxes(range=[-0.5, N - 0.5], dtick=1, title='y', autorange='reversed')\n",
    "    fig.update_layout(width=120*N, height=120*N, showlegend=False)\n",
    "    return fig\n",
    "\n",
    "N = 4\n",
    "TABLE = [\n",
    "    [0, 0, 1, 0],\n",
    "    [0, 0, 1, 1],\n",
    "    [1, 1, 0, 0],\n",
    "    [0, 1, 0, 0],\n",
    "]\n",
    "\n",
    "fig = create_fig()\n",
    "fig"
   ]
  },
  {
   "cell_type": "markdown",
   "metadata": {},
   "source": [
    "**Задача:** Напишете алгоритам кој ќе стигне до целта и на некој начин ќе ја прикаже постапката, чекор по чекор, како да се стигне до решението."
   ]
  },
  {
   "cell_type": "code",
   "execution_count": 4,
   "metadata": {},
   "outputs": [
    {
     "name": "stdout",
     "output_type": "stream",
     "text": [
      "No solution found.\n"
     ]
    }
   ],
   "source": [
    "TABLE_GOAL = [\n",
    "    [0, 0, 0, 0],\n",
    "    [0, 0, 0, 0],\n",
    "    [0, 0, 0, 0],\n",
    "    [0, 0, 0, 0],\n",
    "]\n",
    "N = 4\n",
    "\n",
    "def expand_square(square):\n",
    "    neighbour_squares = []\n",
    "    x, y = square\n",
    "    for x, y in [(x, y), (x+1, y), (x-1, y), (x, y+1), (x, y-1)]:\n",
    "        if 0 <= x < N and 0 <= y < N:\n",
    "            neighbour_squares.append((x, y))\n",
    "    return neighbour_squares\n",
    "#TABLE[y][x] = 0 if TABLE[y][x] else 1\n",
    "\n",
    "def toggle(x, y, TABLE):\n",
    "    new_table = [list(row) for row in TABLE] #kreiraj kopija od TABLE kako list za da e mozhna promena\n",
    "    for dx, dy in [(0, 0), (1, 0), (-1, 0), (0, 1), (0, -1)]: #dx i dy se state i site sosedi\n",
    "        new_x, new_y = x + dx, y + dy\n",
    "    if 0 <= new_x < N and 0 <= new_y < N:  #proveri dali se vo rangot N\n",
    "        new_table[new_x][new_y] = 0 if new_table[new_x][new_y] else 1 #napraj toggle na vrednosta na dx i dy\n",
    "    return tuple(map(tuple, new_table)) #vrati tuple od novata sostojba, tuple za da nemat promeni\n",
    "\n",
    "goal_state = tuple([[0] * N for _ in range(N)]) #matrica od 0\n",
    "\n",
    "from collections import deque\n",
    "\n",
    "def bfs(start, goal):\n",
    "    queue = deque([start])  # Queue for BFS\n",
    "    visited = set([start])  # Set to track visited states\n",
    "    parent_map = {start: None}  # To track how we reached each state\n",
    "    \n",
    "    while queue:\n",
    "        current_state = queue.popleft()\n",
    "        \n",
    "        # If we reached the goal state, reconstruct the path and return it\n",
    "        if current_state == goal:\n",
    "            path = []\n",
    "            while current_state is not None:\n",
    "                path.append(current_state)\n",
    "                current_state = parent_map[current_state]\n",
    "            return path[::-1]  # Return path in correct order (start -> goal)\n",
    "        \n",
    "        # Explore neighbors by toggling each cell\n",
    "        for x in range(N):\n",
    "            for y in range(N):\n",
    "                # Apply the toggle function at each (x, y) to get a new state\n",
    "                new_state = toggle(x, y, current_state)\n",
    "                if new_state not in visited:\n",
    "                    visited.add(new_state)\n",
    "                    queue.append(new_state)\n",
    "                    parent_map[new_state] = current_state  # Track how we reached new_state\n",
    "    \n",
    "    return None  # If no path is found (shouldn't happen in a solvable game)\n",
    "start_state = (\n",
    "    (0, 0, 1, 0),\n",
    "    (0, 0, 1, 1),\n",
    "    (1, 1, 0, 0),\n",
    "    (0, 1, 0, 0)\n",
    ")\n",
    "\n",
    "# Perform BFS to find the shortest path\n",
    "path = bfs(start_state, goal_state)\n",
    "\n",
    "# Print the path of states\n",
    "if path:\n",
    "    for state in path:\n",
    "        for row in state:\n",
    "            print(row)\n",
    "        print()\n",
    "else:\n",
    "    print(\"No solution found.\")\n"
   ]
  },
  {
   "cell_type": "code",
   "execution_count": null,
   "metadata": {},
   "outputs": [],
   "source": []
  },
  {
   "cell_type": "code",
   "execution_count": null,
   "metadata": {},
   "outputs": [],
   "source": [
    "def toggle_square(square, N):\n",
    "    neighbour_squares = []\n",
    "    x, y = square\n",
    "    for x, y in [(x, y), (x+1, y), (x-1, y), (x, y+1), (x, y-1)]:\n",
    "        if 0 <= x < N and 0 <= y < N:\n",
    "            neighbour_squares.append((x, y))\n",
    "    for x, y in neighbour_squares:\n",
    "        TABLE[y][x] = 0 if TABLE[y][x] else 1\n",
    "    return neighbour_squares\n",
    "    \n",
    "def bfs(initial_table, goal_table):\n",
    "    queue = deque([(initial_table, [])])\n",
    "    visited = set()\n",
    "    visited.add(tuple(map(tuple, initial_table)))\n",
    "    while queue:\n",
    "        current_state, path = queue.popleft()\n",
    "        \n",
    "        if current_state == goal_state:\n",
    "            return path\n",
    "        for x, y in range(N):\n",
    "            square = (x,y)\n",
    "            toggle_square(square, N)\n",
    "            \n",
    "                "
   ]
  },
  {
   "cell_type": "code",
   "execution_count": 12,
   "metadata": {},
   "outputs": [],
   "source": [
    "def toggle_square(square, N):\n",
    "    neighbour_squares = []\n",
    "    x, y = square\n",
    "    for x, y in [(x, y), (x+1, y), (x-1, y), (x, y+1), (x, y-1)]:\n",
    "        if 0 <= x < N and 0 <= y < N:\n",
    "            neighbour_squares.append((x, y))\n",
    "    for x, y in neighbour_squares:\n",
    "        TABLE[y][x] = 0 if TABLE[y][x] else 1\n",
    "    return neighbour_squares\n",
    "\n",
    "#def bfs(initial_table, N):\n",
    " #   goal_state = [[0] * N for _ in range(N)]\n",
    "def breadth_first_search(initial_table, goal_table, expand_square):\n",
    "    visited = set()\n",
    "    queue = deque([(initial_table), [])])\n",
    "    visited.add(tuple(map(tuple, initial_table)))\n",
    "    while queue:\n",
    "        current_state, path = queue.popleft()\n",
    "        if current_state == goal_table:\n",
    "            return path\n",
    "        "
   ]
  },
  {
   "cell_type": "markdown",
   "metadata": {
    "tags": []
   },
   "source": [
    "## Лабораториска вежба 4"
   ]
  },
  {
   "cell_type": "markdown",
   "metadata": {},
   "source": [
    "**Задачи:** \n",
    "\n",
    "- Смислете дојава и искористете ја функцијата за дојава во А* алгоритам за решавање на овој проблем.\n",
    "- Покажете резултати дека А*, со помош на вашата функција за дојава, работи побрзо од пребарувањето со униформна цена."
   ]
  },
  {
   "cell_type": "code",
   "execution_count": null,
   "metadata": {},
   "outputs": [],
   "source": [
    "import heapq\n",
    "N = 4\n",
    "num_cells = N*N #br na elementi\n",
    "goal_state = tuple([0] * num_cells)#cel: matrica od 0 odnosno iskluceni svetla\n",
    "\n",
    "def toggle(state, x, y):\n",
    "    new_state = state[:] #kopija na current state za da ne se modificira originalnata\n",
    "    for dx, dy in [(x, y), (x+1, y), (x-1, y), (x, y+1), (x, y-1)]:\n",
    "        nx, ny = x + dx, y + dy\n",
    "        if 0 <= nx < N and 0 <= ny < N:\n",
    "            idx = nx * N + ny #pozicijata vo matricata koja e pretstavena sega so lista/torka\n",
    "            new_state[idx] = 1 - new_state[idx]  # Toggle the light (1->0, 0->1)\n",
    "    return new_state\n",
    "    \n",
    "def h(state):\n",
    "    c = sum(state)/5\n",
    "    return c\n",
    "    \n",
    "#def heuristic(state): #ova precenvit\n",
    " #   return sum(state) #heuristic ni e brojot na '1' vo matricata, celta e da nema '1'\n",
    "\n",
    "goal_state = [0] * (N * N) #celta e matrica so 0 (izgaseni se site svetla)\n",
    "\n",
    "initial_state = (\n",
    "    (0, 0, 1, 0),\n",
    "    (0, 0, 1, 1),\n",
    "    (1, 1, 0, 0),\n",
    "    (0, 1, 0, 0)\n",
    ")"
   ]
  },
  {
   "cell_type": "code",
   "execution_count": 10,
   "metadata": {},
   "outputs": [],
   "source": [
    "def a_star_search(initial_state, goal_state, heuristic):\n",
    "    if initial_state == goal_state:\n",
    "        print('целта е постигната')\n",
    "        return\n",
    "    expanded = set()\n",
    "    queue = [((0, 0), [initial_state])]\n",
    "    heapq.heapify(queue)\n",
    "    while queue:\n",
    "        weight_tupple, vertex_list = heapq.heappop(queue)\n",
    "        current_a_star_weight, current_path_weight = weight_tupple\n",
    "        vertex_to_expand = vertex_list[-1]\n",
    "        if vertex_to_expand in expanded:\n",
    "            continue\n",
    "\n",
    "        frontier = list(set([q[-1][-1] for q in queue]))\n",
    "        yield frontier, vertex_list, vertex_to_expand\n",
    "\n",
    "        for neighbour in expand_state(vertex_to_expand):\n",
    "            if neighbour not in expanded:\n",
    "                new_weight = get_weight(vertex_to_expand, neighbour)\n",
    "                heuristic_score = heuristic(neighbour, goal_vertex)\n",
    "                path_weight = current_path_weight + new_weight\n",
    "                a_star_weight = path_weight + alpha * heuristic_score\n",
    "                heapq.heappush(queue, ((a_star_weight, path_weight), vertex_list + [neighbour]))\n",
    "        expanded.add(vertex_to_expand)\n",
    "    yield [], [], goal_vertex"
   ]
  },
  {
   "cell_type": "code",
   "execution_count": null,
   "metadata": {},
   "outputs": [],
   "source": []
  }
 ],
 "metadata": {
  "kernelspec": {
   "display_name": "Python 3 (ipykernel)",
   "language": "python",
   "name": "python3"
  },
  "language_info": {
   "codemirror_mode": {
    "name": "ipython",
    "version": 3
   },
   "file_extension": ".py",
   "mimetype": "text/x-python",
   "name": "python",
   "nbconvert_exporter": "python",
   "pygments_lexer": "ipython3",
   "version": "3.12.6"
  }
 },
 "nbformat": 4,
 "nbformat_minor": 4
}
