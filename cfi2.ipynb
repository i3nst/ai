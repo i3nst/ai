{
 "cells": [
  {
   "cell_type": "code",
   "execution_count": 11,
   "id": "07aed071-844f-4aca-a195-71e59216b7d9",
   "metadata": {},
   "outputs": [],
   "source": [
    "E = EMPTY = '·'\n",
    "R = 'R'\n",
    "Y = 'Y'\n",
    "inf = float('inf')\n",
    "MAX_DEPTH = 3"
   ]
  },
  {
   "cell_type": "code",
   "execution_count": 12,
   "id": "54bbee58-efae-4eb8-a4e0-1dade615e849",
   "metadata": {},
   "outputs": [],
   "source": [
    "def expand_state(state, player):\n",
    "    for x in range(7):\n",
    "        y = sum([1 if row[x] == EMPTY else 0 for row in state]) - 1\n",
    "        if y == -1:\n",
    "            continue\n",
    "        new_state = list(map(list, state))\n",
    "        new_state[y][x] = 'R' if player == 'MAX' else 'Y'\n",
    "        yield new_state, x"
   ]
  },
  {
   "cell_type": "code",
   "execution_count": 13,
   "id": "6a05bcd3-3195-4b8b-a056-c169979d9495",
   "metadata": {},
   "outputs": [],
   "source": [
    "def check_line_new(line):\n",
    "    for i in range(len(line) - 3):\n",
    "        if all(cell == line[i] and cell != EMPTY for cell in line[i:i + 4]):\n",
    "            return True\n",
    "    return False"
   ]
  },
  {
   "cell_type": "code",
   "execution_count": 14,
   "id": "e7d2d058-6ff2-4123-9765-e67d0d45fae2",
   "metadata": {},
   "outputs": [],
   "source": [
    "def check_columns_new(state):\n",
    "    for col in range(len(state[0])):\n",
    "        column = [state[row][col] for row in range(len(state))]\n",
    "        if check_line_new(column):\n",
    "            return True\n",
    "    return False"
   ]
  },
  {
   "cell_type": "code",
   "execution_count": 15,
   "id": "a3064658-7944-4f64-b6f0-9f057559b124",
   "metadata": {},
   "outputs": [],
   "source": [
    "def check_rows_new(state):\n",
    "    for row in state:\n",
    "        if check_line_new(row):\n",
    "            return True\n",
    "    return False"
   ]
  },
  {
   "cell_type": "code",
   "execution_count": 16,
   "id": "a8110377-29d7-44cd-9640-a513bab20263",
   "metadata": {},
   "outputs": [],
   "source": [
    "def check_diagonals_new(state):\n",
    "    for i in range(len(state) - 3):\n",
    "        for j in range(len(state[0]) - 3):\n",
    "            diagonal = [state[i + k][j + k] for k in range(4)]\n",
    "            if check_line_new(diagonal):\n",
    "                return True\n",
    "\n",
    "            diagonal = [state[i + 3 - k][j + k] for k in range(4)]\n",
    "            if check_line_new(diagonal):\n",
    "                return True\n",
    "    return False"
   ]
  },
  {
   "cell_type": "code",
   "execution_count": 17,
   "id": "107613fb-c6ad-4937-8ade-de0cebf7501d",
   "metadata": {},
   "outputs": [],
   "source": [
    "def victory(state):\n",
    "    if check_columns_new(state) or check_rows_new(state) or check_diagonals_new(state):\n",
    "        return True\n",
    "    else:\n",
    "        return False"
   ]
  },
  {
   "cell_type": "code",
   "execution_count": 18,
   "id": "7f488277-0429-4e22-abdc-beace329bcaa",
   "metadata": {},
   "outputs": [],
   "source": [
    "def valid(x,y):\n",
    "    if x <= 5 and x >= 0 and y <= 6 and y >= 0:\n",
    "        return True"
   ]
  },
  {
   "cell_type": "code",
   "execution_count": 19,
   "id": "7cbc25a7-e04a-400d-aacb-7780dd9fbcb7",
   "metadata": {},
   "outputs": [],
   "source": [
    "def extra(state,x,y,pos_x,pos_y,player):\n",
    "    extra_x = x + pos_x\n",
    "    extra_y = y + pos_y\n",
    "    extra_neg_x = x - pos_x - pos_x\n",
    "    extra_neg_y = y - pos_y - pos_y\n",
    "    if valid(extra_x,extra_y) and state[extra_x][extra_y] == player:\n",
    "        return True\n",
    "    if valid(extra_neg_x,extra_neg_y) and state[extra_neg_x][extra_neg_y] == player:\n",
    "        return True"
   ]
  },
  {
   "cell_type": "code",
   "execution_count": 20,
   "id": "e71570e8-ed4c-4df3-a430-b5e0ddf87087",
   "metadata": {},
   "outputs": [],
   "source": [
    "def evaluate_state(state,player):\n",
    "    matrix_state = [list(row) for row in state]\n",
    "    count_red = 0\n",
    "    count_yellow = 0\n",
    "    for row,element1 in enumerate(matrix_state):\n",
    "        for column,element2 in enumerate(element1):\n",
    "            if player == 'MAX':\n",
    "                if victory(state):\n",
    "                    count_red = count_red + 900000000000000000000.0\n",
    "                if matrix_state[row][column] == 'R':\n",
    "                    if column == 3:\n",
    "                        count_red = count_red + 0.001\n",
    "                    possible_moves = [(0,-1),(0,1),(1,0),(-1,0),(1,1),(-1,1),(1,-1),(-1,-1)]\n",
    "                    for poss_r,poss_c in possible_moves:\n",
    "                        new_row = poss_r + row\n",
    "                        new_column = poss_c + column\n",
    "                        if valid(new_row,new_column):\n",
    "                            if matrix_state[new_row][new_column] == 'R':\n",
    "                                count_red = count_red + 0.1\n",
    "                                if extra(matrix_state,new_row,new_column,poss_r,poss_c,player):\n",
    "                                    count_red = count_red + 100.0\n",
    "                                    #if potential_victory(matrix_state,new_row,new_column,poss_r,poss_c,player):\n",
    "                                        #count_red = count_red + 3000000000000\n",
    "                if matrix_state[row][column] == 'Y':\n",
    "                    poss_opponent_1 = [(0,-1),(0,1),(1,0),(-1,0),(1,1),(-1,1),(1,-1),(-1,-1)]\n",
    "                    poss_opponent_2 = [(0,-2),(0,2),(2,0),(-2,0),(2,2),(-2,2),(2,-2),(-2,-2)]\n",
    "                    stop_opponent = [(0,-3),(0,3),(3,0),(-3,0),(3,3),(-3,3),(3,-3),(-3,-3)]\n",
    "                    for (x1,y1),(x2,y2),(stop_x,stop_y) in zip(poss_opponent_1,poss_opponent_2,stop_opponent):\n",
    "                        new_x1 = row + x1\n",
    "                        new_y1 = column + y1\n",
    "                        new_x2 = row + x2\n",
    "                        new_y2 = column + y2\n",
    "                        stop_newx = stop_x + row\n",
    "                        stop_newy = stop_y + column\n",
    "                        if valid(new_x1,new_y1) and valid(new_x2,new_y2) and valid(stop_newx,stop_newy):\n",
    "                            if matrix_state[new_x1][new_y1] == 'Y' and matrix_state[new_x2][new_y2] == 'Y':\n",
    "                                if matrix_state[stop_newx][stop_newy] == 'R':\n",
    "                                    count_red = count_red + 10000000.0\n",
    "            if player == 'MIN':   \n",
    "                if victory(state):\n",
    "                    count_yellow = count_yellow + 900000000000000000000.0\n",
    "                if matrix_state[row][column] == 'Y':\n",
    "                    if column == 3:\n",
    "                        count_yellow = count_yellow + 0.001\n",
    "                    possible_moves = [(0,-1),(0,1),(1,0),(-1,0),(1,1),(-1,1),(1,-1),(-1,-1)]\n",
    "                    for poss_r,poss_c in possible_moves:\n",
    "                        new_row = poss_r + row\n",
    "                        new_column = poss_c + column\n",
    "                        if valid(new_row,new_column):\n",
    "                            if matrix_state[new_row][new_column] == 'Y':\n",
    "                                count_yellow = count_yellow + 0.1\n",
    "                                if extra(matrix_state,new_row,new_column,poss_r,poss_c,player):\n",
    "                                    count_yellow = count_yellow + 100.0\n",
    "                                    #if potential_victory(matrix_state,new_row,new_column,poss_r,poss_c,player):\n",
    "                                        #count_yellow = count_yellow + 3000000000000\n",
    "                if matrix_state[row][column] == 'R':\n",
    "                    poss_opponent_1 = [(0,-1),(0,1),(1,0),(-1,0),(1,1),(-1,1),(1,-1),(-1,-1)]\n",
    "                    poss_opponent_2 = [(0,-2),(0,2),(2,0),(-2,0),(2,2),(-2,2),(2,-2),(-2,-2)]\n",
    "                    stop_opponent = [(0,-3),(0,3),(3,0),(-3,0),(3,3),(-3,3),(3,-3),(-3,-3)]\n",
    "                    for (x1,y1),(x2,y2),(stop_x,stop_y) in zip(poss_opponent_1,poss_opponent_2,stop_opponent):\n",
    "                        new_x1 = row + x1\n",
    "                        new_y1 = column + y1\n",
    "                        new_x2 = row + x2\n",
    "                        new_y2 = column + y2\n",
    "                        stop_newx = stop_x + row\n",
    "                        stop_newy = stop_y + column\n",
    "                        if valid(new_x1,new_y1) and valid(new_x2,new_y2) and valid(stop_newx,stop_newy):\n",
    "                            if matrix_state[new_x1][new_y1] == 'R' and matrix_state[new_x2][new_y2] == 'R':\n",
    "                                if matrix_state[stop_newx][stop_newy] == 'Y':\n",
    "                                    count_yellow = count_yellow + 10000000.0\n",
    "\n",
    "    if player == 'MAX':\n",
    "        return count_red\n",
    "    elif player == 'MIN':\n",
    "        return -count_yellow"
   ]
  },
  {
   "cell_type": "code",
   "execution_count": 22,
   "id": "7c3aa4bd-0ded-4f46-8a38-4d9f388bc4fb",
   "metadata": {},
   "outputs": [],
   "source": [
    "def get_move(state, player):\n",
    "    MM = player\n",
    "    result, move = minimax(state, MM)\n",
    "    return move\n",
    "\n",
    "def minimax(node, player, alpha=-inf, beta=inf, depth=0):\n",
    "    best_value = inf if player == 'MIN' else -inf\n",
    "    best_move = None\n",
    "    for child, move in expand_state(node, player):\n",
    "        other_player = 'MIN' if player == 'MAX' else 'MAX'\n",
    "        if depth < MAX_DEPTH:\n",
    "            result, _ = minimax(child, other_player, alpha, beta, depth+10)\n",
    "        else:\n",
    "            result = evaluate_state(child, other_player)\n",
    "        if player == 'MIN':\n",
    "            if result <= alpha:\n",
    "                return result, best_move\n",
    "            if result < beta:\n",
    "                beta = result\n",
    "            if result < best_value:\n",
    "                best_value = result\n",
    "                best_move = move\n",
    "        elif player == 'MAX':\n",
    "            if result >= beta:\n",
    "                return result, best_move\n",
    "            if result > alpha:\n",
    "                alpha = result\n",
    "            if result > best_value:\n",
    "                best_value = result\n",
    "                best_move = move\n",
    "    return best_value, best_move"
   ]
  },
  {
   "cell_type": "code",
   "execution_count": 27,
   "id": "c0c9d906-3167-4fa2-a6aa-ac0ab01194e6",
   "metadata": {},
   "outputs": [],
   "source": [
    "test1 = ((EMPTY,EMPTY,EMPTY,EMPTY,EMPTY,EMPTY,EMPTY),(EMPTY,EMPTY,EMPTY,EMPTY,EMPTY,EMPTY,EMPTY),(EMPTY,EMPTY,EMPTY,EMPTY,EMPTY,EMPTY,EMPTY),(EMPTY,EMPTY,EMPTY,EMPTY,'R',EMPTY,EMPTY),(EMPTY,EMPTY,EMPTY,EMPTY,'R',EMPTY,EMPTY),(EMPTY,'Y','Y','Y','R','R',EMPTY))"
   ]
  },
  {
   "cell_type": "code",
   "execution_count": 30,
   "id": "5f634848-cf77-46f6-8298-0a7d79b202b0",
   "metadata": {},
   "outputs": [
    {
     "data": {
      "text/plain": [
       "4"
      ]
     },
     "execution_count": 30,
     "metadata": {},
     "output_type": "execute_result"
    }
   ],
   "source": [
    "get_move(test1,'MAX')"
   ]
  },
  {
   "cell_type": "code",
   "execution_count": null,
   "id": "c9cbcdac-99d1-49f5-a60f-1333ead37be9",
   "metadata": {},
   "outputs": [],
   "source": []
  }
 ],
 "metadata": {
  "kernelspec": {
   "display_name": "Python 3 (ipykernel)",
   "language": "python",
   "name": "python3"
  },
  "language_info": {
   "codemirror_mode": {
    "name": "ipython",
    "version": 3
   },
   "file_extension": ".py",
   "mimetype": "text/x-python",
   "name": "python",
   "nbconvert_exporter": "python",
   "pygments_lexer": "ipython3",
   "version": "3.12.3"
  }
 },
 "nbformat": 4,
 "nbformat_minor": 5
}
