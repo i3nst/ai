{
 "cells": [
  {
   "cell_type": "code",
   "execution_count": 1,
   "id": "1d98d09c-f1c5-4cee-8818-159354202d96",
   "metadata": {},
   "outputs": [],
   "source": [
    "import pandas as pd"
   ]
  },
  {
   "cell_type": "code",
   "execution_count": 2,
   "id": "87c914a8-d38a-4b15-a2d8-d0ae394e3fd8",
   "metadata": {},
   "outputs": [],
   "source": [
    "df = pd.read_csv('data-Copy1/penguins.csv')"
   ]
  },
  {
   "cell_type": "code",
   "execution_count": 3,
   "id": "77064d93-fd8d-43d0-befa-db05f4a352a7",
   "metadata": {},
   "outputs": [
    {
     "data": {
      "text/html": [
       "<div>\n",
       "<style scoped>\n",
       "    .dataframe tbody tr th:only-of-type {\n",
       "        vertical-align: middle;\n",
       "    }\n",
       "\n",
       "    .dataframe tbody tr th {\n",
       "        vertical-align: top;\n",
       "    }\n",
       "\n",
       "    .dataframe thead th {\n",
       "        text-align: right;\n",
       "    }\n",
       "</style>\n",
       "<table border=\"1\" class=\"dataframe\">\n",
       "  <thead>\n",
       "    <tr style=\"text-align: right;\">\n",
       "      <th></th>\n",
       "      <th>species</th>\n",
       "      <th>island</th>\n",
       "      <th>culmen_length_mm</th>\n",
       "      <th>culmen_depth_mm</th>\n",
       "      <th>flipper_length_mm</th>\n",
       "      <th>body_mass_g</th>\n",
       "      <th>sex</th>\n",
       "    </tr>\n",
       "  </thead>\n",
       "  <tbody>\n",
       "    <tr>\n",
       "      <th>0</th>\n",
       "      <td>Adelie</td>\n",
       "      <td>Torgersen</td>\n",
       "      <td>39.1</td>\n",
       "      <td>18.7</td>\n",
       "      <td>181</td>\n",
       "      <td>3750</td>\n",
       "      <td>MALE</td>\n",
       "    </tr>\n",
       "    <tr>\n",
       "      <th>1</th>\n",
       "      <td>Adelie</td>\n",
       "      <td>Torgersen</td>\n",
       "      <td>39.5</td>\n",
       "      <td>17.4</td>\n",
       "      <td>186</td>\n",
       "      <td>3800</td>\n",
       "      <td>FEMALE</td>\n",
       "    </tr>\n",
       "    <tr>\n",
       "      <th>2</th>\n",
       "      <td>Adelie</td>\n",
       "      <td>Torgersen</td>\n",
       "      <td>40.3</td>\n",
       "      <td>18.0</td>\n",
       "      <td>195</td>\n",
       "      <td>3250</td>\n",
       "      <td>FEMALE</td>\n",
       "    </tr>\n",
       "    <tr>\n",
       "      <th>3</th>\n",
       "      <td>Adelie</td>\n",
       "      <td>Torgersen</td>\n",
       "      <td>36.7</td>\n",
       "      <td>19.3</td>\n",
       "      <td>193</td>\n",
       "      <td>3450</td>\n",
       "      <td>FEMALE</td>\n",
       "    </tr>\n",
       "    <tr>\n",
       "      <th>4</th>\n",
       "      <td>Adelie</td>\n",
       "      <td>Torgersen</td>\n",
       "      <td>39.3</td>\n",
       "      <td>20.6</td>\n",
       "      <td>190</td>\n",
       "      <td>3650</td>\n",
       "      <td>MALE</td>\n",
       "    </tr>\n",
       "    <tr>\n",
       "      <th>...</th>\n",
       "      <td>...</td>\n",
       "      <td>...</td>\n",
       "      <td>...</td>\n",
       "      <td>...</td>\n",
       "      <td>...</td>\n",
       "      <td>...</td>\n",
       "      <td>...</td>\n",
       "    </tr>\n",
       "    <tr>\n",
       "      <th>328</th>\n",
       "      <td>Gentoo</td>\n",
       "      <td>Biscoe</td>\n",
       "      <td>47.2</td>\n",
       "      <td>13.7</td>\n",
       "      <td>214</td>\n",
       "      <td>4925</td>\n",
       "      <td>FEMALE</td>\n",
       "    </tr>\n",
       "    <tr>\n",
       "      <th>329</th>\n",
       "      <td>Gentoo</td>\n",
       "      <td>Biscoe</td>\n",
       "      <td>46.8</td>\n",
       "      <td>14.3</td>\n",
       "      <td>215</td>\n",
       "      <td>4850</td>\n",
       "      <td>FEMALE</td>\n",
       "    </tr>\n",
       "    <tr>\n",
       "      <th>330</th>\n",
       "      <td>Gentoo</td>\n",
       "      <td>Biscoe</td>\n",
       "      <td>50.4</td>\n",
       "      <td>15.7</td>\n",
       "      <td>222</td>\n",
       "      <td>5750</td>\n",
       "      <td>MALE</td>\n",
       "    </tr>\n",
       "    <tr>\n",
       "      <th>331</th>\n",
       "      <td>Gentoo</td>\n",
       "      <td>Biscoe</td>\n",
       "      <td>45.2</td>\n",
       "      <td>14.8</td>\n",
       "      <td>212</td>\n",
       "      <td>5200</td>\n",
       "      <td>FEMALE</td>\n",
       "    </tr>\n",
       "    <tr>\n",
       "      <th>332</th>\n",
       "      <td>Gentoo</td>\n",
       "      <td>Biscoe</td>\n",
       "      <td>49.9</td>\n",
       "      <td>16.1</td>\n",
       "      <td>213</td>\n",
       "      <td>5400</td>\n",
       "      <td>MALE</td>\n",
       "    </tr>\n",
       "  </tbody>\n",
       "</table>\n",
       "<p>333 rows × 7 columns</p>\n",
       "</div>"
      ],
      "text/plain": [
       "    species     island  culmen_length_mm  culmen_depth_mm  flipper_length_mm  \\\n",
       "0    Adelie  Torgersen              39.1             18.7                181   \n",
       "1    Adelie  Torgersen              39.5             17.4                186   \n",
       "2    Adelie  Torgersen              40.3             18.0                195   \n",
       "3    Adelie  Torgersen              36.7             19.3                193   \n",
       "4    Adelie  Torgersen              39.3             20.6                190   \n",
       "..      ...        ...               ...              ...                ...   \n",
       "328  Gentoo     Biscoe              47.2             13.7                214   \n",
       "329  Gentoo     Biscoe              46.8             14.3                215   \n",
       "330  Gentoo     Biscoe              50.4             15.7                222   \n",
       "331  Gentoo     Biscoe              45.2             14.8                212   \n",
       "332  Gentoo     Biscoe              49.9             16.1                213   \n",
       "\n",
       "     body_mass_g     sex  \n",
       "0           3750    MALE  \n",
       "1           3800  FEMALE  \n",
       "2           3250  FEMALE  \n",
       "3           3450  FEMALE  \n",
       "4           3650    MALE  \n",
       "..           ...     ...  \n",
       "328         4925  FEMALE  \n",
       "329         4850  FEMALE  \n",
       "330         5750    MALE  \n",
       "331         5200  FEMALE  \n",
       "332         5400    MALE  \n",
       "\n",
       "[333 rows x 7 columns]"
      ]
     },
     "execution_count": 3,
     "metadata": {},
     "output_type": "execute_result"
    }
   ],
   "source": [
    "df"
   ]
  },
  {
   "cell_type": "raw",
   "id": "b5bf56aa-d846-43b3-a289-6149174e5449",
   "metadata": {},
   "source": [
    "Издвојте ја колоната species во нова променлива. Потоа поделете го податочното множество на два дела. Поголемиот дел нека е 80% и ќе служи за тренирање, а помалиот дел од 20% ќе служи за проверка на повединието на алгоритмите кои ќе ги имплементирате понатаму."
   ]
  },
  {
   "cell_type": "code",
   "execution_count": 4,
   "id": "fa77950e-4f1f-418b-a20f-307f4c847b1b",
   "metadata": {},
   "outputs": [],
   "source": [
    "y = df['species']\n",
    "x = df.iloc[:,1:]"
   ]
  },
  {
   "cell_type": "code",
   "execution_count": 5,
   "id": "8d87428b-abf2-4245-8975-e8a9a35f195e",
   "metadata": {},
   "outputs": [],
   "source": [
    "from sklearn.model_selection import train_test_split\n",
    "from sklearn.preprocessing import LabelEncoder"
   ]
  },
  {
   "cell_type": "code",
   "execution_count": 6,
   "id": "c8691f01-4a2a-456b-a026-1a17cfa1a2e6",
   "metadata": {},
   "outputs": [],
   "source": [
    "le = LabelEncoder() \n",
    "le.fit(x['sex'])\n",
    "le.classes_\n",
    "new_sex = le.transform(x['sex'])\n",
    "x['sex'] = new_sex"
   ]
  },
  {
   "cell_type": "code",
   "execution_count": 7,
   "id": "f8ccdfae-e566-465b-bcf1-d7e0cb4c6943",
   "metadata": {},
   "outputs": [],
   "source": [
    "le = LabelEncoder()\n",
    "le.fit(x['island'])\n",
    "le.classes_\n",
    "new_island = le.transform(x['island'])\n",
    "x['island'] = new_island"
   ]
  },
  {
   "cell_type": "code",
   "execution_count": 8,
   "id": "3e52e51b-42ac-41d7-9685-a1f1c6672257",
   "metadata": {},
   "outputs": [],
   "source": [
    "x_train, x_test, y_train, y_test = train_test_split(x, y,random_state = 80, test_size=0.2)"
   ]
  },
  {
   "cell_type": "raw",
   "id": "03e21853-2105-4336-aabc-7c57d05c1615",
   "metadata": {},
   "source": [
    "Користејќи ја библиотеката sklearn, вчитајте невронска мрежа од типот Multi-layer Perceptron, претставено преку класата MLPClassifier, а потоа вметнете ги податоците за тренирање за да ја истренирате мрежата."
   ]
  },
  {
   "cell_type": "code",
   "execution_count": 9,
   "id": "6741d01a-7e3d-47db-8252-712b317ca3f9",
   "metadata": {},
   "outputs": [],
   "source": [
    "from sklearn.neural_network import MLPClassifier"
   ]
  },
  {
   "cell_type": "code",
   "execution_count": 10,
   "id": "a2383260-f914-42c7-b76d-cf31a0abe0a8",
   "metadata": {},
   "outputs": [],
   "source": [
    "clf = MLPClassifier(hidden_layer_sizes=(20, 20, 20), random_state=72)"
   ]
  },
  {
   "cell_type": "code",
   "execution_count": 11,
   "id": "c43e8656-ed3a-4c32-afed-cdb6389af596",
   "metadata": {},
   "outputs": [
    {
     "data": {
      "text/html": [
       "<style>#sk-container-id-1 {color: black;}#sk-container-id-1 pre{padding: 0;}#sk-container-id-1 div.sk-toggleable {background-color: white;}#sk-container-id-1 label.sk-toggleable__label {cursor: pointer;display: block;width: 100%;margin-bottom: 0;padding: 0.3em;box-sizing: border-box;text-align: center;}#sk-container-id-1 label.sk-toggleable__label-arrow:before {content: \"▸\";float: left;margin-right: 0.25em;color: #696969;}#sk-container-id-1 label.sk-toggleable__label-arrow:hover:before {color: black;}#sk-container-id-1 div.sk-estimator:hover label.sk-toggleable__label-arrow:before {color: black;}#sk-container-id-1 div.sk-toggleable__content {max-height: 0;max-width: 0;overflow: hidden;text-align: left;background-color: #f0f8ff;}#sk-container-id-1 div.sk-toggleable__content pre {margin: 0.2em;color: black;border-radius: 0.25em;background-color: #f0f8ff;}#sk-container-id-1 input.sk-toggleable__control:checked~div.sk-toggleable__content {max-height: 200px;max-width: 100%;overflow: auto;}#sk-container-id-1 input.sk-toggleable__control:checked~label.sk-toggleable__label-arrow:before {content: \"▾\";}#sk-container-id-1 div.sk-estimator input.sk-toggleable__control:checked~label.sk-toggleable__label {background-color: #d4ebff;}#sk-container-id-1 div.sk-label input.sk-toggleable__control:checked~label.sk-toggleable__label {background-color: #d4ebff;}#sk-container-id-1 input.sk-hidden--visually {border: 0;clip: rect(1px 1px 1px 1px);clip: rect(1px, 1px, 1px, 1px);height: 1px;margin: -1px;overflow: hidden;padding: 0;position: absolute;width: 1px;}#sk-container-id-1 div.sk-estimator {font-family: monospace;background-color: #f0f8ff;border: 1px dotted black;border-radius: 0.25em;box-sizing: border-box;margin-bottom: 0.5em;}#sk-container-id-1 div.sk-estimator:hover {background-color: #d4ebff;}#sk-container-id-1 div.sk-parallel-item::after {content: \"\";width: 100%;border-bottom: 1px solid gray;flex-grow: 1;}#sk-container-id-1 div.sk-label:hover label.sk-toggleable__label {background-color: #d4ebff;}#sk-container-id-1 div.sk-serial::before {content: \"\";position: absolute;border-left: 1px solid gray;box-sizing: border-box;top: 0;bottom: 0;left: 50%;z-index: 0;}#sk-container-id-1 div.sk-serial {display: flex;flex-direction: column;align-items: center;background-color: white;padding-right: 0.2em;padding-left: 0.2em;position: relative;}#sk-container-id-1 div.sk-item {position: relative;z-index: 1;}#sk-container-id-1 div.sk-parallel {display: flex;align-items: stretch;justify-content: center;background-color: white;position: relative;}#sk-container-id-1 div.sk-item::before, #sk-container-id-1 div.sk-parallel-item::before {content: \"\";position: absolute;border-left: 1px solid gray;box-sizing: border-box;top: 0;bottom: 0;left: 50%;z-index: -1;}#sk-container-id-1 div.sk-parallel-item {display: flex;flex-direction: column;z-index: 1;position: relative;background-color: white;}#sk-container-id-1 div.sk-parallel-item:first-child::after {align-self: flex-end;width: 50%;}#sk-container-id-1 div.sk-parallel-item:last-child::after {align-self: flex-start;width: 50%;}#sk-container-id-1 div.sk-parallel-item:only-child::after {width: 0;}#sk-container-id-1 div.sk-dashed-wrapped {border: 1px dashed gray;margin: 0 0.4em 0.5em 0.4em;box-sizing: border-box;padding-bottom: 0.4em;background-color: white;}#sk-container-id-1 div.sk-label label {font-family: monospace;font-weight: bold;display: inline-block;line-height: 1.2em;}#sk-container-id-1 div.sk-label-container {text-align: center;}#sk-container-id-1 div.sk-container {/* jupyter's `normalize.less` sets `[hidden] { display: none; }` but bootstrap.min.css set `[hidden] { display: none !important; }` so we also need the `!important` here to be able to override the default hidden behavior on the sphinx rendered scikit-learn.org. See: https://github.com/scikit-learn/scikit-learn/issues/21755 */display: inline-block !important;position: relative;}#sk-container-id-1 div.sk-text-repr-fallback {display: none;}</style><div id=\"sk-container-id-1\" class=\"sk-top-container\"><div class=\"sk-text-repr-fallback\"><pre>MLPClassifier(hidden_layer_sizes=(20, 20, 20), random_state=72)</pre><b>In a Jupyter environment, please rerun this cell to show the HTML representation or trust the notebook. <br />On GitHub, the HTML representation is unable to render, please try loading this page with nbviewer.org.</b></div><div class=\"sk-container\" hidden><div class=\"sk-item\"><div class=\"sk-estimator sk-toggleable\"><input class=\"sk-toggleable__control sk-hidden--visually\" id=\"sk-estimator-id-1\" type=\"checkbox\" checked><label for=\"sk-estimator-id-1\" class=\"sk-toggleable__label sk-toggleable__label-arrow\">MLPClassifier</label><div class=\"sk-toggleable__content\"><pre>MLPClassifier(hidden_layer_sizes=(20, 20, 20), random_state=72)</pre></div></div></div></div></div>"
      ],
      "text/plain": [
       "MLPClassifier(hidden_layer_sizes=(20, 20, 20), random_state=72)"
      ]
     },
     "execution_count": 11,
     "metadata": {},
     "output_type": "execute_result"
    }
   ],
   "source": [
    "clf.fit(x_train, y_train)"
   ]
  },
  {
   "cell_type": "raw",
   "id": "f67e81c0-5a2a-45cc-ba68-05d96b45d1e6",
   "metadata": {},
   "source": [
    "Пресметајте ја прецизноста на мрежата за податоците кои мрежата ги нема видено (на кои нема тренирано). Потоа пресметајте ја прецизноста на мрежата за податоците кои ги има видено (на кои има тренирано). Споредете ги резултатите. Ви изгледаат ли во ред?"
   ]
  },
  {
   "cell_type": "code",
   "execution_count": 12,
   "id": "9a855ac9-361f-434d-ac0b-46361f14ba7f",
   "metadata": {},
   "outputs": [],
   "source": [
    "y_predict = clf.predict(x_test)"
   ]
  },
  {
   "cell_type": "code",
   "execution_count": 13,
   "id": "d501a6f8-17bc-455d-be44-3597e5e07fab",
   "metadata": {},
   "outputs": [],
   "source": [
    "from sklearn.metrics import accuracy_score"
   ]
  },
  {
   "cell_type": "code",
   "execution_count": 14,
   "id": "89f3fba4-d9a6-49c4-8856-cdc6b9ce6d2b",
   "metadata": {},
   "outputs": [
    {
     "data": {
      "text/plain": [
       "70.1492537313433"
      ]
     },
     "execution_count": 14,
     "metadata": {},
     "output_type": "execute_result"
    }
   ],
   "source": [
    "accuracy_score(a,y_predict)*100"
   ]
  },
  {
   "cell_type": "raw",
   "id": "9ed0ceed-2a63-49db-9ff9-de8c8f799c34",
   "metadata": {},
   "source": [
    "Кои пингвини мрежата успева да ги распознава подобро, машките или женските?"
   ]
  },
  {
   "cell_type": "code",
   "execution_count": 15,
   "id": "af88c59e-8de5-4df9-9245-49c84e8bb341",
   "metadata": {},
   "outputs": [],
   "source": [
    "df_male = df[df['sex'] == 'MALE'] # go delam data frame-ot na mashki i zhenski pingvini\n",
    "df_female = df[df['sex'] == 'FEMALE']"
   ]
  },
  {
   "cell_type": "code",
   "execution_count": 16,
   "id": "f8bcedf3-4b95-41cc-9e39-113728b0f721",
   "metadata": {},
   "outputs": [],
   "source": [
    "y_male_df = df_male['species'] \n",
    "x_male_df = df_male.iloc[:,1:]\n",
    "y_female_df = df_female['species']\n",
    "x_female_df = df_female.iloc[:,1:]"
   ]
  },
  {
   "cell_type": "code",
   "execution_count": 17,
   "id": "0213c432-d5aa-4faa-8789-e07c5c94ad82",
   "metadata": {},
   "outputs": [],
   "source": [
    "x_male_df['island'] = le.fit_transform(x_male_df['island'])\n",
    "x_male_df['sex'] = le.fit_transform(x_male_df['sex'])\n",
    "x_female_df['sex'] = le.fit_transform(x_female_df['sex'])\n",
    "x_female_df['island'] = le.fit_transform(x_female_df['island'])"
   ]
  },
  {
   "cell_type": "code",
   "execution_count": 18,
   "id": "41c8bae0-0e7c-4648-a82d-e396eeb35800",
   "metadata": {},
   "outputs": [],
   "source": [
    "y_predict_male = clf.predict(x_male_df)"
   ]
  },
  {
   "cell_type": "code",
   "execution_count": 19,
   "id": "22fb67e5-4b9b-48c6-b333-ac821ebeb5a7",
   "metadata": {},
   "outputs": [
    {
     "data": {
      "text/plain": [
       "61.904761904761905"
      ]
     },
     "execution_count": 19,
     "metadata": {},
     "output_type": "execute_result"
    }
   ],
   "source": [
    "accuracy_score(y_male_df,y_predict_male)*100"
   ]
  },
  {
   "cell_type": "code",
   "execution_count": 20,
   "id": "fc51d4ad-6984-42b3-982e-7c6feeffe147",
   "metadata": {},
   "outputs": [],
   "source": [
    "y_predict_female = clf.predict(x_female_df)"
   ]
  },
  {
   "cell_type": "code",
   "execution_count": 21,
   "id": "4d7c773e-9f45-47f3-91e8-86e8edd22a6a",
   "metadata": {},
   "outputs": [
    {
     "data": {
      "text/plain": [
       "79.39393939393939"
      ]
     },
     "execution_count": 21,
     "metadata": {},
     "output_type": "execute_result"
    }
   ],
   "source": [
    "accuracy_score(y_female_df,y_predict_female)*100"
   ]
  },
  {
   "cell_type": "raw",
   "id": "096353c9-8749-460c-956b-6e6b2779976e",
   "metadata": {},
   "source": [
    "Од кој вид е даден машки пингвин со признаци culmen_length_mm = 72, culmen_depth_mm = 34, flipper_length_mm = 202, body_mass_g = 4450, и е пронајден на островот Торгерсен?"
   ]
  },
  {
   "cell_type": "code",
   "execution_count": 22,
   "id": "5d359ab7-e32a-4dd7-a318-fa141de1fb8b",
   "metadata": {},
   "outputs": [],
   "source": [
    "data = {\n",
    "    'island' : [2], \n",
    "    'culmen_length_mm': [72],\n",
    "    'culmen_depth_mm': [34],\n",
    "    'flipper_length_mm': [202],\n",
    "    'body_mass_g' : [4450],\n",
    "    'sex' : [1]\n",
    "}"
   ]
  },
  {
   "cell_type": "code",
   "execution_count": 23,
   "id": "a5d1ea99-98ac-4ed7-a5db-d6797745f816",
   "metadata": {},
   "outputs": [],
   "source": [
    "df_check = pd.DataFrame(data)"
   ]
  },
  {
   "cell_type": "code",
   "execution_count": 24,
   "id": "5a7aa239-51bf-4062-b133-19bb4850a3c8",
   "metadata": {},
   "outputs": [
    {
     "data": {
      "text/html": [
       "<div>\n",
       "<style scoped>\n",
       "    .dataframe tbody tr th:only-of-type {\n",
       "        vertical-align: middle;\n",
       "    }\n",
       "\n",
       "    .dataframe tbody tr th {\n",
       "        vertical-align: top;\n",
       "    }\n",
       "\n",
       "    .dataframe thead th {\n",
       "        text-align: right;\n",
       "    }\n",
       "</style>\n",
       "<table border=\"1\" class=\"dataframe\">\n",
       "  <thead>\n",
       "    <tr style=\"text-align: right;\">\n",
       "      <th></th>\n",
       "      <th>island</th>\n",
       "      <th>culmen_length_mm</th>\n",
       "      <th>culmen_depth_mm</th>\n",
       "      <th>flipper_length_mm</th>\n",
       "      <th>body_mass_g</th>\n",
       "      <th>sex</th>\n",
       "    </tr>\n",
       "  </thead>\n",
       "  <tbody>\n",
       "    <tr>\n",
       "      <th>0</th>\n",
       "      <td>2</td>\n",
       "      <td>72</td>\n",
       "      <td>34</td>\n",
       "      <td>202</td>\n",
       "      <td>4450</td>\n",
       "      <td>1</td>\n",
       "    </tr>\n",
       "  </tbody>\n",
       "</table>\n",
       "</div>"
      ],
      "text/plain": [
       "   island  culmen_length_mm  culmen_depth_mm  flipper_length_mm  body_mass_g  \\\n",
       "0       2                72               34                202         4450   \n",
       "\n",
       "   sex  \n",
       "0    1  "
      ]
     },
     "execution_count": 24,
     "metadata": {},
     "output_type": "execute_result"
    }
   ],
   "source": [
    "df_check"
   ]
  },
  {
   "cell_type": "code",
   "execution_count": 25,
   "id": "2e42d33d-0103-4569-8299-cba029577cf9",
   "metadata": {},
   "outputs": [],
   "source": [
    "new_penguin = clf.predict(df_check)"
   ]
  },
  {
   "cell_type": "code",
   "execution_count": 26,
   "id": "d28e5ce5-5934-407d-9c22-33ba5b822579",
   "metadata": {},
   "outputs": [
    {
     "data": {
      "text/plain": [
       "array(['Adelie'], dtype='<U9')"
      ]
     },
     "execution_count": 26,
     "metadata": {},
     "output_type": "execute_result"
    }
   ],
   "source": [
    "new_penguin"
   ]
  },
  {
   "cell_type": "code",
   "execution_count": 27,
   "id": "ea76b7c3-b972-4be9-b877-7a34d463e3f1",
   "metadata": {},
   "outputs": [],
   "source": [
    "import numpy as np"
   ]
  },
  {
   "cell_type": "code",
   "execution_count": 28,
   "id": "05aad3cd-e224-46b7-9ad5-873854adf0f7",
   "metadata": {},
   "outputs": [],
   "source": [
    "def entropy(a, b, c):\n",
    "    \"\"\"\n",
    "    Function that calculates information entropy.\n",
    "    :param a: subset A size\n",
    "    :param b: subset B size\n",
    "    :returns: entropy\n",
    "    \"\"\"\n",
    "    if a == 0 or b == 0 or c == 0:\n",
    "        return 0\n",
    "    m = a + b\n",
    "    return - a/m * np.log2(a/m) - b/m * np.log2(b/m) -c/m * np.log2(c/m)"
   ]
  },
  {
   "cell_type": "code",
   "execution_count": 29,
   "id": "eaf3e82e-f302-44dc-ad89-5bc47933048b",
   "metadata": {},
   "outputs": [],
   "source": [
    "# prvo ja prajme entropy funkcijia\n",
    "def entropy_of_dataset(df, output_column, class_1, class_2, class_3):\n",
    "#     ги земаме податоците од множеството df каде излезот е еднаков на класа 1\n",
    "    class_1_data = df.query(f\"{output_column} == '{class_1}'\")\n",
    "#     ги земаме податоците од множеството df каде излезот е еднаков на класа 2\n",
    "    class_2_data = df.query(f\"{output_column} == '{class_2}'\")\n",
    "\n",
    "    class_3_data = df.query(f\"{output_column} == '{class_3}'\")\n",
    "#     ја пресметуваме ентропијата за даденото множество податоци\n",
    "    return entropy(class_1_data.shape[0], class_2_data.shape[0], class_3_data.shape[0])"
   ]
  },
  {
   "cell_type": "code",
   "execution_count": 30,
   "id": "16273acc-b875-4aa3-b0ba-023a1980ee5d",
   "metadata": {},
   "outputs": [],
   "source": [
    "output_column = 'species'\n",
    "class_1 = 'Adelie'\n",
    "class_2 = 'Gentoo'\n",
    "class_3 = 'Chinstrap'\n",
    "\n",
    "h_before_split = entropy_of_dataset(df,output_column,class_1, class_2, class_3)"
   ]
  },
  {
   "cell_type": "code",
   "execution_count": 31,
   "id": "dea9757e-0860-455f-8da3-023bdca95af0",
   "metadata": {},
   "outputs": [],
   "source": [
    "df['culmen_length_mm_over_30'] = df['culmen_length_mm'] > 40\n",
    "df = df [['culmen_length_mm_over_30','sex','species']]"
   ]
  },
  {
   "cell_type": "code",
   "execution_count": 32,
   "id": "0d021b36-4b77-4d3f-8d73-a32d559967e2",
   "metadata": {},
   "outputs": [
    {
     "data": {
      "text/plain": [
       "0.00013793765131220326"
      ]
     },
     "execution_count": 32,
     "metadata": {},
     "output_type": "execute_result"
    }
   ],
   "source": [
    "# rabotime prvo za SEX\n",
    "male_data = df.query(\"sex == 'MALE'\")\n",
    "female_data = df.query(\"sex == 'FEMALE'\")\n",
    "h_male_data = entropy_of_dataset(male_data,output_column,class_1, class_2, class_3)\n",
    "h_female_data = entropy_of_dataset(female_data,output_column,class_1, class_2, class_3)\n",
    "factor_male_data = male_data.shape[0]/df.shape[0] # gi zema prvite i gi deli so prvite nekolku\n",
    "factor_female_data = female_data.shape[0]/df.shape[0]\n",
    "\n",
    "h_after_split_sex = factor_male_data*h_male_data + factor_female_data*h_female_data\n",
    "\n",
    "information_gain_sex = h_before_split - h_after_split_sex\n",
    "information_gain_sex"
   ]
  },
  {
   "cell_type": "code",
   "execution_count": 33,
   "id": "46bc5593-0bba-41fd-ae67-444072e527eb",
   "metadata": {},
   "outputs": [
    {
     "data": {
      "text/plain": [
       "0.49635275845708526"
      ]
     },
     "execution_count": 33,
     "metadata": {},
     "output_type": "execute_result"
    }
   ],
   "source": [
    "# rabotime za CULMENLENGHT\n",
    "true_data = df.query(\"culmen_length_mm_over_30 == True\") #true e culmen over 30\n",
    "false_data = df.query(\"culmen_length_mm_over_30 == False\") #false culmen under 30\n",
    "h_true_data = entropy_of_dataset(true_data,output_column,class_1, class_2, class_3)\n",
    "h_false_data = entropy_of_dataset(false_data,output_column,class_1, class_2, class_3)\n",
    "factor_true_data = true_data.shape[0]/df.shape[0] # gi zema prvite i gi deli so prvite nekolku\n",
    "factor_false_data = false_data.shape[0]/df.shape[0]\n",
    "\n",
    "h_after_split_culmen = factor_true_data*h_true_data + factor_false_data*h_false_data\n",
    "\n",
    "information_gain_culmen = h_before_split - h_after_split_culmen\n",
    "information_gain_culmen"
   ]
  }
 ],
 "metadata": {
  "kernelspec": {
   "display_name": "Python 3 (ipykernel)",
   "language": "python",
   "name": "python3"
  },
  "language_info": {
   "codemirror_mode": {
    "name": "ipython",
    "version": 3
   },
   "file_extension": ".py",
   "mimetype": "text/x-python",
   "name": "python",
   "nbconvert_exporter": "python",
   "pygments_lexer": "ipython3",
   "version": "3.12.3"
  }
 },
 "nbformat": 4,
 "nbformat_minor": 5
}
